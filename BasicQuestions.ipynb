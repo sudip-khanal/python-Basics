{
  "nbformat": 4,
  "nbformat_minor": 0,
  "metadata": {
    "colab": {
      "provenance": [],
      "authorship_tag": "ABX9TyPpH/NsnYc4steDw+LN1tFL",
      "include_colab_link": true
    },
    "kernelspec": {
      "name": "python3",
      "display_name": "Python 3"
    },
    "language_info": {
      "name": "python"
    }
  },
  "cells": [
    {
      "cell_type": "markdown",
      "metadata": {
        "id": "view-in-github",
        "colab_type": "text"
      },
      "source": [
        "<a href=\"https://colab.research.google.com/github/sudip-khanal/python-Basics/blob/main/BasicQuestions.ipynb\" target=\"_parent\"><img src=\"https://colab.research.google.com/assets/colab-badge.svg\" alt=\"Open In Colab\"/></a>"
      ]
    },
    {
      "cell_type": "markdown",
      "source": [
        "swipping 2 numbers\n"
      ],
      "metadata": {
        "id": "2oYIJlpQaXID"
      }
    },
    {
      "cell_type": "code",
      "source": [
        "num1= int(input(\"Enter the first num : \"))\n",
        "num2= int(input(\"Enter the second num : \"))\n",
        "\n",
        "print(\"value of num1 before swipping :\",num1)\n",
        "print(\"value of num 2 before swipping :\",num2)\n",
        "\n",
        "temp=num1\n",
        "num1=num2\n",
        "num2=temp\n",
        "print(\"value of num1 after swipping :\",num1)\n",
        "print(\"value of num 2 after swipping :\",num2)\n"
      ],
      "metadata": {
        "colab": {
          "base_uri": "https://localhost:8080/"
        },
        "id": "ri9vaDzaadP1",
        "outputId": "9382aa7e-fe31-463a-f7bc-a709f1b8b80a"
      },
      "execution_count": null,
      "outputs": [
        {
          "output_type": "stream",
          "name": "stdout",
          "text": [
            "Enter the first num : 8\n",
            "Enter the second num : 7\n",
            "value of num1 before swipping : 8\n",
            "value of num 2 before swipping : 7\n",
            "value of num1 after swipping : 7\n",
            "value of num 2 after swipping : 8\n"
          ]
        }
      ]
    },
    {
      "cell_type": "markdown",
      "source": [
        "another example of swapping without temp veriable"
      ],
      "metadata": {
        "id": "Qpn24_buclb4"
      }
    },
    {
      "cell_type": "code",
      "source": [
        "a= 20\n",
        "b=30\n",
        "print(\"value of a before swipping :\",a)\n",
        "print(\"value of b before swipping :\",b)\n",
        "\n",
        "a=a-b\n",
        "b=a+b\n",
        "a= b-a\n",
        "\n",
        "print(\"value of a after  swipping :\",a)\n",
        "print(\"value of b after swipping :\",b)\n"
      ],
      "metadata": {
        "colab": {
          "base_uri": "https://localhost:8080/"
        },
        "id": "STpPEzREctNi",
        "outputId": "43025d8f-3fd8-4e5d-dfeb-87b8e353da2a"
      },
      "execution_count": null,
      "outputs": [
        {
          "output_type": "stream",
          "name": "stdout",
          "text": [
            "value of a before swipping : 20\n",
            "value of b before swipping : 30\n",
            "value of a after  swipping : 30\n",
            "value of b after swipping : 20\n"
          ]
        }
      ]
    },
    {
      "cell_type": "markdown",
      "source": [
        "Check A Number is Prime Or Not"
      ],
      "metadata": {
        "id": "dXyf8WsjefLq"
      }
    },
    {
      "cell_type": "code",
      "source": [
        "n= int(input(\"Enter the number:\"))\n",
        "count=0\n",
        "if n>1:\n",
        "  for i in range(1,n+1):\n",
        "    if(n%i)==0:\n",
        "      count=count+1\n",
        "  if count ==2:\n",
        "    print(n,\"is prime number\")\n",
        "  else:\n",
        "     print(n,\"is not a prime number\")\n",
        "\n"
      ],
      "metadata": {
        "colab": {
          "base_uri": "https://localhost:8080/"
        },
        "id": "p6sTRfxFev6B",
        "outputId": "c9ada5ae-cb1f-4b41-83f7-8bc1fbcce790"
      },
      "execution_count": null,
      "outputs": [
        {
          "output_type": "stream",
          "name": "stdout",
          "text": [
            "Enter the number:25\n",
            "25 is not a prime number\n"
          ]
        }
      ]
    },
    {
      "cell_type": "markdown",
      "source": [
        " Find Factorial of A Number"
      ],
      "metadata": {
        "id": "ynSJ5tarhmwF"
      }
    },
    {
      "cell_type": "code",
      "source": [
        "n= int(input(\"Enter the number:\"))\n",
        "fact=1\n",
        "if n<0:\n",
        "  print(\"no factorial for negative number\")\n",
        "elif(n==0):\n",
        "  print(\" factorial of 0 is 1\")\n",
        "else:\n",
        "  for i in range(1,n+1):\n",
        "    fact=fact*i\n",
        "  print(\"factorial of\", n,\"is\",fact)\n",
        "\n",
        "\n"
      ],
      "metadata": {
        "colab": {
          "base_uri": "https://localhost:8080/"
        },
        "id": "h3Z3n-z8hsxq",
        "outputId": "63cc4d19-2b93-49bc-ddf6-1b12c75778a5"
      },
      "execution_count": null,
      "outputs": [
        {
          "output_type": "stream",
          "name": "stdout",
          "text": [
            "Enter the number:10\n",
            "factorial of 10 is 3628800\n"
          ]
        }
      ]
    },
    {
      "cell_type": "markdown",
      "source": [
        "Find Factorial of A Number using recursion"
      ],
      "metadata": {
        "id": "k22xEEXOkJbi"
      }
    },
    {
      "cell_type": "code",
      "source": [
        "def factorial(n):\n",
        "\n",
        "  if(n==0 or n==1):\n",
        "    return 1\n",
        "  else:\n",
        "    return n*factorial(n-1)\n",
        "\n",
        "num= int(input(\"Enter the number:\"))\n",
        "result = factorial(num)\n",
        "print(\"factorial of\", num,\"is\",result)"
      ],
      "metadata": {
        "colab": {
          "base_uri": "https://localhost:8080/"
        },
        "id": "G6lyTx2_kNeX",
        "outputId": "a1004da1-3823-49fa-f2b3-c9730d67d093"
      },
      "execution_count": null,
      "outputs": [
        {
          "output_type": "stream",
          "name": "stdout",
          "text": [
            "Enter the number:6\n",
            "factorial of 6 is 720\n"
          ]
        }
      ]
    },
    {
      "cell_type": "markdown",
      "source": [
        "Fibonacci Series"
      ],
      "metadata": {
        "id": "oiWno0kalwlF"
      }
    },
    {
      "cell_type": "code",
      "source": [
        "num1=0\n",
        "num2=1\n",
        "print(num1)\n",
        "print(num2)\n",
        "for i in range(2,15):\n",
        "  sum=num1+num2\n",
        "  print(sum)\n",
        "  num1=num2\n",
        "  num2=sum\n",
        "\n"
      ],
      "metadata": {
        "id": "z7goY8ermAHR"
      },
      "execution_count": null,
      "outputs": []
    },
    {
      "cell_type": "markdown",
      "source": [
        "Find Sum Of Elements in an Array"
      ],
      "metadata": {
        "id": "48Q4t5kXpFIP"
      }
    },
    {
      "cell_type": "code",
      "source": [
        "import numpy as np\n",
        "\n",
        "arr = np.array([1, 2, 3, 4, 5, 6])\n",
        "result = sum(arr)\n",
        "\n",
        "print(result)"
      ],
      "metadata": {
        "id": "orxDJFMRukOc"
      },
      "execution_count": null,
      "outputs": []
    },
    {
      "cell_type": "markdown",
      "source": [
        "Find Maximum & Minimum Elements in an Array"
      ],
      "metadata": {
        "id": "GPMhHAgBun0Z"
      }
    },
    {
      "cell_type": "code",
      "source": [
        "\n",
        "arr=[1,4,6,9,10]\n",
        "maxVal=[0]\n",
        "n=len(arr) #length of array\n",
        "for i in range(1,n):\n",
        "  if arr[i]>maxVal:\n",
        "    maxVal=arr[i]\n",
        "\n",
        "print(maxVal)\n"
      ],
      "metadata": {
        "id": "inAE-VQfuwLZ"
      },
      "execution_count": null,
      "outputs": []
    },
    {
      "cell_type": "markdown",
      "source": [
        "Find Length of a List"
      ],
      "metadata": {
        "id": "JiG9JFh_x7Ey"
      }
    },
    {
      "cell_type": "code",
      "source": [
        "my_list=[1,4,5,7,8,4]\n",
        "print (my_list)\n",
        "count=0\n",
        "for i in my_list:\n",
        "  count=count+1\n",
        "print (\"length of list is \", count)\n",
        "# using len function\n",
        "print (len(my_list))"
      ],
      "metadata": {
        "colab": {
          "base_uri": "https://localhost:8080/"
        },
        "id": "r9JUL2VXyLUU",
        "outputId": "4895423e-6807-420f-ee37-a618abbe5465"
      },
      "execution_count": 28,
      "outputs": [
        {
          "output_type": "stream",
          "name": "stdout",
          "text": [
            "[1, 4, 5, 7, 8, 4]\n",
            "length of list is  6\n",
            "6\n"
          ]
        }
      ]
    },
    {
      "cell_type": "markdown",
      "source": [
        "Swap First & Last Elements of a List"
      ],
      "metadata": {
        "id": "_3nOhC-nzdDz"
      }
    },
    {
      "cell_type": "code",
      "source": [
        "my_list=[1,90,7,54,10]\n",
        "size= len(my_list)\n",
        "print(\"before swapping \",my_list)\n",
        "temp=my_list[0]\n",
        "my_list[0]=my_list[size-1]\n",
        "my_list[size-1]=temp\n",
        "print(\"after swapping \",my_list)\n",
        "\n"
      ],
      "metadata": {
        "colab": {
          "base_uri": "https://localhost:8080/"
        },
        "id": "0-XT71oWzeB8",
        "outputId": "5d20a3a1-ac4f-481d-c04e-6c3c061930c5"
      },
      "execution_count": 29,
      "outputs": [
        {
          "output_type": "stream",
          "name": "stdout",
          "text": [
            "before swapping  [1, 90, 7, 54, 10]\n",
            "after swapping  [10, 90, 7, 54, 1]\n"
          ]
        }
      ]
    },
    {
      "cell_type": "markdown",
      "source": [
        "Remove Nth occurrence of the word from a List"
      ],
      "metadata": {
        "id": "IcEfngZx2Eyl"
      }
    },
    {
      "cell_type": "code",
      "source": [
        "my_list=[\"hello\",\"hello\",\"hi\",\"what's up\",\"welcome\"]\n",
        "print(my_list)\n",
        "word=\"hello\"\n",
        "count=0\n",
        "n=2\n",
        "for i in range(0,len(my_list)-1):\n",
        "  if (my_list[i]==word):\n",
        "    count=count+1\n",
        "    if count==n:\n",
        "      del my_list[i]\n",
        "print(my_list)\n",
        "\n",
        "\n"
      ],
      "metadata": {
        "colab": {
          "base_uri": "https://localhost:8080/"
        },
        "id": "UnqYh86t2FpT",
        "outputId": "afe002f8-a0ce-4aee-f828-1e24aefb538b"
      },
      "execution_count": 42,
      "outputs": [
        {
          "output_type": "stream",
          "name": "stdout",
          "text": [
            "['hello', 'hello', 'hi', \"what's up\", 'welcome']\n",
            "['hello', 'hi', \"what's up\", 'welcome']\n"
          ]
        }
      ]
    },
    {
      "cell_type": "markdown",
      "source": [
        "Search an Element in a List"
      ],
      "metadata": {
        "id": "OgOn4Otp50XH"
      }
    },
    {
      "cell_type": "code",
      "source": [
        "my_list=[1,90,7,54,10]\n",
        "element=100 # search to be\n",
        "if element in my_list:\n",
        "  print(\"found\")\n",
        "else:\n",
        "  print(\"not found\")\n"
      ],
      "metadata": {
        "colab": {
          "base_uri": "https://localhost:8080/"
        },
        "id": "XIAdTkj-4bBS",
        "outputId": "5a0a840a-cd1f-4ba8-8456-84dadf890558"
      },
      "execution_count": 44,
      "outputs": [
        {
          "output_type": "stream",
          "name": "stdout",
          "text": [
            "not found\n"
          ]
        }
      ]
    },
    {
      "cell_type": "markdown",
      "source": [
        "Reverse a List"
      ],
      "metadata": {
        "id": "IeYqAPAu7c3B"
      }
    },
    {
      "cell_type": "code",
      "source": [
        "my_list=[1,90,7,54,10]\n",
        "#using persifine method\n",
        "print(my_list)\n",
        "my_list.reverse()\n",
        "print(my_list)\n",
        "\n"
      ],
      "metadata": {
        "colab": {
          "base_uri": "https://localhost:8080/"
        },
        "id": "O5gTfI-w8sMP",
        "outputId": "3fb4acb3-0712-4583-e671-74bb9fc0ed12"
      },
      "execution_count": 47,
      "outputs": [
        {
          "output_type": "stream",
          "name": "stdout",
          "text": [
            "[1, 90, 7, 54, 10]\n",
            "[10, 54, 7, 90, 1]\n"
          ]
        }
      ]
    },
    {
      "cell_type": "markdown",
      "source": [],
      "metadata": {
        "id": "KVrf-vFj9tp9"
      }
    }
  ]
}