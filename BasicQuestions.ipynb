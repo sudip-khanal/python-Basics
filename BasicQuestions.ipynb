{
  "cells": [
    {
      "cell_type": "markdown",
      "metadata": {
        "id": "view-in-github",
        "colab_type": "text"
      },
      "source": [
        "<a href=\"https://colab.research.google.com/github/sudip-khanal/python-Basics/blob/main/BasicQuestions.ipynb\" target=\"_parent\"><img src=\"https://colab.research.google.com/assets/colab-badge.svg\" alt=\"Open In Colab\"/></a>"
      ]
    },
    {
      "cell_type": "markdown",
      "metadata": {
        "id": "2oYIJlpQaXID"
      },
      "source": [
        "swipping 2 numbers\n"
      ]
    },
    {
      "cell_type": "code",
      "execution_count": null,
      "metadata": {
        "colab": {
          "base_uri": "https://localhost:8080/"
        },
        "id": "ri9vaDzaadP1",
        "outputId": "9382aa7e-fe31-463a-f7bc-a709f1b8b80a"
      },
      "outputs": [
        {
          "name": "stdout",
          "output_type": "stream",
          "text": [
            "Enter the first num : 8\n",
            "Enter the second num : 7\n",
            "value of num1 before swipping : 8\n",
            "value of num 2 before swipping : 7\n",
            "value of num1 after swipping : 7\n",
            "value of num 2 after swipping : 8\n"
          ]
        }
      ],
      "source": [
        "num1= int(input(\"Enter the first num : \"))\n",
        "num2= int(input(\"Enter the second num : \"))\n",
        "\n",
        "print(\"value of num1 before swipping :\",num1)\n",
        "print(\"value of num 2 before swipping :\",num2)\n",
        "\n",
        "temp=num1\n",
        "num1=num2\n",
        "num2=temp\n",
        "print(\"value of num1 after swipping :\",num1)\n",
        "print(\"value of num 2 after swipping :\",num2)\n"
      ]
    },
    {
      "cell_type": "markdown",
      "metadata": {
        "id": "Qpn24_buclb4"
      },
      "source": [
        "another example of swapping without temp veriable"
      ]
    },
    {
      "cell_type": "code",
      "execution_count": null,
      "metadata": {
        "colab": {
          "base_uri": "https://localhost:8080/"
        },
        "id": "STpPEzREctNi",
        "outputId": "43025d8f-3fd8-4e5d-dfeb-87b8e353da2a"
      },
      "outputs": [
        {
          "name": "stdout",
          "output_type": "stream",
          "text": [
            "value of a before swipping : 20\n",
            "value of b before swipping : 30\n",
            "value of a after  swipping : 30\n",
            "value of b after swipping : 20\n"
          ]
        }
      ],
      "source": [
        "a= 20\n",
        "b=30\n",
        "print(\"value of a before swipping :\",a)\n",
        "print(\"value of b before swipping :\",b)\n",
        "\n",
        "a=a-b\n",
        "b=a+b\n",
        "a= b-a\n",
        "\n",
        "print(\"value of a after  swipping :\",a)\n",
        "print(\"value of b after swipping :\",b)\n"
      ]
    },
    {
      "cell_type": "markdown",
      "metadata": {
        "id": "dXyf8WsjefLq"
      },
      "source": [
        "Check A Number is Prime Or Not"
      ]
    },
    {
      "cell_type": "code",
      "execution_count": null,
      "metadata": {
        "colab": {
          "base_uri": "https://localhost:8080/"
        },
        "id": "p6sTRfxFev6B",
        "outputId": "c9ada5ae-cb1f-4b41-83f7-8bc1fbcce790"
      },
      "outputs": [
        {
          "name": "stdout",
          "output_type": "stream",
          "text": [
            "Enter the number:25\n",
            "25 is not a prime number\n"
          ]
        }
      ],
      "source": [
        "n= int(input(\"Enter the number:\"))\n",
        "count=0\n",
        "if n>1:\n",
        "  for i in range(1,n+1):\n",
        "    if(n%i)==0:\n",
        "      count=count+1\n",
        "  if count ==2:\n",
        "    print(n,\"is prime number\")\n",
        "  else:\n",
        "     print(n,\"is not a prime number\")\n",
        "\n"
      ]
    },
    {
      "cell_type": "markdown",
      "metadata": {
        "id": "ynSJ5tarhmwF"
      },
      "source": [
        " Find Factorial of A Number"
      ]
    },
    {
      "cell_type": "code",
      "execution_count": null,
      "metadata": {
        "colab": {
          "base_uri": "https://localhost:8080/"
        },
        "id": "h3Z3n-z8hsxq",
        "outputId": "63cc4d19-2b93-49bc-ddf6-1b12c75778a5"
      },
      "outputs": [
        {
          "name": "stdout",
          "output_type": "stream",
          "text": [
            "Enter the number:10\n",
            "factorial of 10 is 3628800\n"
          ]
        }
      ],
      "source": [
        "n= int(input(\"Enter the number:\"))\n",
        "fact=1\n",
        "if n<0:\n",
        "  print(\"no factorial for negative number\")\n",
        "elif(n==0):\n",
        "  print(\" factorial of 0 is 1\")\n",
        "else:\n",
        "  for i in range(1,n+1):\n",
        "    fact=fact*i\n",
        "  print(\"factorial of\", n,\"is\",fact)\n",
        "\n",
        "\n"
      ]
    },
    {
      "cell_type": "markdown",
      "metadata": {
        "id": "k22xEEXOkJbi"
      },
      "source": [
        "Find Factorial of A Number using recursion"
      ]
    },
    {
      "cell_type": "code",
      "execution_count": null,
      "metadata": {
        "colab": {
          "base_uri": "https://localhost:8080/"
        },
        "id": "G6lyTx2_kNeX",
        "outputId": "a1004da1-3823-49fa-f2b3-c9730d67d093"
      },
      "outputs": [
        {
          "name": "stdout",
          "output_type": "stream",
          "text": [
            "Enter the number:6\n",
            "factorial of 6 is 720\n"
          ]
        }
      ],
      "source": [
        "def factorial(n):\n",
        "\n",
        "  if(n==0 or n==1):\n",
        "    return 1\n",
        "  else:\n",
        "    return n*factorial(n-1)\n",
        "\n",
        "num= int(input(\"Enter the number:\"))\n",
        "result = factorial(num)\n",
        "print(\"factorial of\", num,\"is\",result)"
      ]
    },
    {
      "cell_type": "markdown",
      "metadata": {
        "id": "oiWno0kalwlF"
      },
      "source": [
        "Fibonacci Series"
      ]
    },
    {
      "cell_type": "code",
      "execution_count": null,
      "metadata": {
        "colab": {
          "base_uri": "https://localhost:8080/"
        },
        "id": "z7goY8ermAHR",
        "outputId": "2fa919ab-fb79-4721-86a6-59b3d2eaf5d9"
      },
      "outputs": [
        {
          "name": "stdout",
          "output_type": "stream",
          "text": [
            "0\n",
            "1\n",
            "1\n",
            "2\n",
            "3\n",
            "5\n",
            "8\n",
            "13\n",
            "21\n",
            "34\n"
          ]
        }
      ],
      "source": [
        "A=0\n",
        "B=1\n",
        "print(A)\n",
        "print(B)\n",
        "for i in range(2,10):\n",
        "  C=A+B\n",
        "  A=B\n",
        "  B=C\n",
        "  print(C)\n",
        "\n"
      ]
    },
    {
      "cell_type": "markdown",
      "metadata": {
        "id": "48Q4t5kXpFIP"
      },
      "source": [
        "Find Sum Of Elements in an Array"
      ]
    },
    {
      "cell_type": "code",
      "execution_count": null,
      "metadata": {
        "id": "orxDJFMRukOc"
      },
      "outputs": [],
      "source": [
        "import numpy as np\n",
        "\n",
        "arr = np.array([1, 2, 3, 4, 5, 6])\n",
        "result = sum(arr)\n",
        "\n",
        "print(result)"
      ]
    },
    {
      "cell_type": "markdown",
      "metadata": {
        "id": "GPMhHAgBun0Z"
      },
      "source": [
        "Find Maximum & Minimum Elements in an Array"
      ]
    },
    {
      "cell_type": "code",
      "execution_count": null,
      "metadata": {
        "id": "inAE-VQfuwLZ"
      },
      "outputs": [],
      "source": [
        "\n",
        "arr=[1,4,6,9,10]\n",
        "maxVal=[0]\n",
        "n=len(arr) #length of array\n",
        "for i in range(1,n):\n",
        "  if arr[i]>maxVal:\n",
        "    maxVal=arr[i]\n",
        "\n",
        "print(maxVal)\n"
      ]
    },
    {
      "cell_type": "markdown",
      "metadata": {
        "id": "JiG9JFh_x7Ey"
      },
      "source": [
        "Find Length of a List"
      ]
    },
    {
      "cell_type": "code",
      "execution_count": null,
      "metadata": {
        "colab": {
          "base_uri": "https://localhost:8080/"
        },
        "id": "r9JUL2VXyLUU",
        "outputId": "4895423e-6807-420f-ee37-a618abbe5465"
      },
      "outputs": [
        {
          "name": "stdout",
          "output_type": "stream",
          "text": [
            "[1, 4, 5, 7, 8, 4]\n",
            "length of list is  6\n",
            "6\n"
          ]
        }
      ],
      "source": [
        "my_list=[1,4,5,7,8,4]\n",
        "print (my_list)\n",
        "count=0\n",
        "for i in my_list:\n",
        "  count=count+1\n",
        "print (\"length of list is \", count)\n",
        "# using len function\n",
        "print (len(my_list))"
      ]
    },
    {
      "cell_type": "markdown",
      "metadata": {
        "id": "_3nOhC-nzdDz"
      },
      "source": [
        "Swap First & Last Elements of a List"
      ]
    },
    {
      "cell_type": "code",
      "execution_count": null,
      "metadata": {
        "colab": {
          "base_uri": "https://localhost:8080/"
        },
        "id": "0-XT71oWzeB8",
        "outputId": "5d20a3a1-ac4f-481d-c04e-6c3c061930c5"
      },
      "outputs": [
        {
          "name": "stdout",
          "output_type": "stream",
          "text": [
            "before swapping  [1, 90, 7, 54, 10]\n",
            "after swapping  [10, 90, 7, 54, 1]\n"
          ]
        }
      ],
      "source": [
        "my_list=[1,90,7,54,10]\n",
        "size= len(my_list)\n",
        "print(\"before swapping \",my_list)\n",
        "temp=my_list[0]\n",
        "my_list[0]=my_list[size-1]\n",
        "my_list[size-1]=temp\n",
        "print(\"after swapping \",my_list)\n",
        "\n"
      ]
    },
    {
      "cell_type": "markdown",
      "metadata": {
        "id": "IcEfngZx2Eyl"
      },
      "source": [
        "Remove Nth occurrence of the word from a List"
      ]
    },
    {
      "cell_type": "code",
      "execution_count": null,
      "metadata": {
        "colab": {
          "base_uri": "https://localhost:8080/"
        },
        "id": "UnqYh86t2FpT",
        "outputId": "afe002f8-a0ce-4aee-f828-1e24aefb538b"
      },
      "outputs": [
        {
          "name": "stdout",
          "output_type": "stream",
          "text": [
            "['hello', 'hello', 'hi', \"what's up\", 'welcome']\n",
            "['hello', 'hi', \"what's up\", 'welcome']\n"
          ]
        }
      ],
      "source": [
        "my_list=[\"hello\",\"hello\",\"hi\",\"what's up\",\"welcome\"]\n",
        "print(my_list)\n",
        "word=\"hello\"\n",
        "count=0\n",
        "n=2\n",
        "for i in range(0,len(my_list)-1):\n",
        "  if (my_list[i]==word):\n",
        "    count=count+1\n",
        "    if count==n:\n",
        "      del my_list[i]\n",
        "print(my_list)\n",
        "\n",
        "\n"
      ]
    },
    {
      "cell_type": "markdown",
      "metadata": {
        "id": "OgOn4Otp50XH"
      },
      "source": [
        "Search an Element in a List"
      ]
    },
    {
      "cell_type": "code",
      "execution_count": null,
      "metadata": {
        "colab": {
          "base_uri": "https://localhost:8080/"
        },
        "id": "XIAdTkj-4bBS",
        "outputId": "5a0a840a-cd1f-4ba8-8456-84dadf890558"
      },
      "outputs": [
        {
          "name": "stdout",
          "output_type": "stream",
          "text": [
            "not found\n"
          ]
        }
      ],
      "source": [
        "my_list=[1,90,7,54,10]\n",
        "element=100 # search to be\n",
        "if element in my_list:\n",
        "  print(\"found\")\n",
        "else:\n",
        "  print(\"not found\")\n"
      ]
    },
    {
      "cell_type": "markdown",
      "metadata": {
        "id": "IeYqAPAu7c3B"
      },
      "source": [
        "Reverse a List"
      ]
    },
    {
      "cell_type": "code",
      "execution_count": null,
      "metadata": {
        "colab": {
          "base_uri": "https://localhost:8080/"
        },
        "id": "O5gTfI-w8sMP",
        "outputId": "3fb4acb3-0712-4583-e671-74bb9fc0ed12"
      },
      "outputs": [
        {
          "name": "stdout",
          "output_type": "stream",
          "text": [
            "[1, 90, 7, 54, 10]\n",
            "[10, 54, 7, 90, 1]\n"
          ]
        }
      ],
      "source": [
        "my_list=[1,90,7,54,10]\n",
        "#using persifine method\n",
        "print(my_list)\n",
        "my_list.reverse()\n",
        "print(my_list)\n",
        "\n"
      ]
    },
    {
      "cell_type": "markdown",
      "metadata": {
        "id": "KVrf-vFj9tp9"
      },
      "source": [
        "printing pattern"
      ]
    },
    {
      "cell_type": "code",
      "execution_count": null,
      "metadata": {
        "colab": {
          "base_uri": "https://localhost:8080/"
        },
        "id": "i7TZGaR6WWjO",
        "outputId": "69e49071-4f47-4bb4-bb48-e984ba869c86"
      },
      "outputs": [
        {
          "name": "stdout",
          "output_type": "stream",
          "text": [
            "* * * * * \n",
            "* * * * * \n",
            "* * * * * \n",
            "* * * * * \n",
            "* * * * * \n"
          ]
        }
      ],
      "source": [
        "n= 5\n",
        "for i in range(n):\n",
        "  for j in range(n):\n",
        "    print(\"*\",end=\" \")\n",
        "  print()"
      ]
    },
    {
      "cell_type": "markdown",
      "metadata": {
        "id": "r33zDZNLXx0s"
      },
      "source": [
        "increasing trangle"
      ]
    },
    {
      "cell_type": "code",
      "execution_count": null,
      "metadata": {
        "colab": {
          "base_uri": "https://localhost:8080/"
        },
        "id": "rlEC5C-BXXwN",
        "outputId": "1ddf368b-6c9f-4690-b738-f1d2c149b80e"
      },
      "outputs": [
        {
          "name": "stdout",
          "output_type": "stream",
          "text": [
            "* \n",
            "* * \n",
            "* * * \n",
            "* * * * \n",
            "* * * * * \n"
          ]
        }
      ],
      "source": [
        "n=5\n",
        "for i in range(n):\n",
        "  for j in range(i+1):\n",
        "    print(\"*\", end=\" \")\n",
        "  print()"
      ]
    },
    {
      "cell_type": "markdown",
      "metadata": {
        "id": "HSIp8YoyYy-d"
      },
      "source": [
        "decreasing trangle"
      ]
    },
    {
      "cell_type": "code",
      "execution_count": null,
      "metadata": {
        "colab": {
          "base_uri": "https://localhost:8080/"
        },
        "id": "15WFdiOzY3uT",
        "outputId": "3bab8d5c-39d8-4bd6-c0ff-c2b79a25fad6"
      },
      "outputs": [
        {
          "name": "stdout",
          "output_type": "stream",
          "text": [
            "* * * * * \n",
            "* * * * \n",
            "* * * \n",
            "* * \n",
            "* \n"
          ]
        }
      ],
      "source": [
        "n=5\n",
        "for i in range(n):\n",
        "  for j in range(n-i):\n",
        "    print(\"*\", end=\" \")\n",
        "  print()"
      ]
    },
    {
      "cell_type": "markdown",
      "metadata": {
        "id": "7AkBRmZDZjGT"
      },
      "source": [
        "right sided trangle"
      ]
    },
    {
      "cell_type": "code",
      "execution_count": null,
      "metadata": {
        "colab": {
          "base_uri": "https://localhost:8080/"
        },
        "id": "pYdSDvP5ZySU",
        "outputId": "af01a5f2-c7df-445a-865f-22cea5f60a7f"
      },
      "outputs": [
        {
          "name": "stdout",
          "output_type": "stream",
          "text": [
            "          * \n",
            "        * * \n",
            "      * * * \n",
            "    * * * * \n",
            "  * * * * * \n"
          ]
        }
      ],
      "source": [
        "n=5\n",
        "for i in range(n):\n",
        "  for j in range(i,n):\n",
        "    print(' ',end=' ')\n",
        "\n",
        "  for j in range(i+1):\n",
        "    print(\"*\",end=\" \")\n",
        "  print()"
      ]
    },
    {
      "cell_type": "markdown",
      "metadata": {
        "id": "xdJW0JH6b9JT"
      },
      "source": []
    },
    {
      "cell_type": "code",
      "execution_count": null,
      "metadata": {
        "colab": {
          "base_uri": "https://localhost:8080/"
        },
        "id": "zgL5lc8vb9kZ",
        "outputId": "50dad367-479e-43c5-cad3-083f6e2e24c3"
      },
      "outputs": [
        {
          "name": "stdout",
          "output_type": "stream",
          "text": [
            "  * * * * * \n",
            "    * * * * \n",
            "      * * * \n",
            "        * * \n",
            "          * \n"
          ]
        }
      ],
      "source": [
        "n=5\n",
        "for i in range(n):\n",
        "  for j in range(i+1):\n",
        "    print(' ',end=' ')\n",
        "  for j in range(i,n):\n",
        "    print(\"*\", end=\" \")\n",
        "  print()"
      ]
    },
    {
      "cell_type": "markdown",
      "metadata": {
        "id": "2x43egv1c1yj"
      },
      "source": [
        "hill pattern"
      ]
    },
    {
      "cell_type": "code",
      "execution_count": null,
      "metadata": {
        "colab": {
          "base_uri": "https://localhost:8080/"
        },
        "id": "gLILMtLDc4Oj",
        "outputId": "b90eb63c-0a09-4a33-ce12-1280a78b7744"
      },
      "outputs": [
        {
          "name": "stdout",
          "output_type": "stream",
          "text": [
            "          * \n",
            "         * * \n",
            "        * * * \n",
            "       * * * * \n",
            "      * * * * * \n",
            "     * * * * * * \n",
            "    * * * * * * * \n",
            "   * * * * * * * * \n",
            "  * * * * * * * * * \n",
            " * * * * * * * * * * \n"
          ]
        }
      ],
      "source": [
        "n=10\n",
        "for i in range(n):\n",
        "  for j in range(i,n):\n",
        "    print('',end=' ')\n",
        "  for j in range(i+1):\n",
        "    print(\"*\",end=' ')\n",
        "  print()"
      ]
    },
    {
      "cell_type": "markdown",
      "metadata": {
        "id": "c0zFTU1deBZe"
      },
      "source": [
        "reverse hill"
      ]
    },
    {
      "cell_type": "code",
      "execution_count": null,
      "metadata": {
        "colab": {
          "base_uri": "https://localhost:8080/"
        },
        "id": "P7bOSzxleD0h",
        "outputId": "21dee3e2-6969-403a-e5f7-2a130dde30d8"
      },
      "outputs": [
        {
          "name": "stdout",
          "output_type": "stream",
          "text": [
            " * * * * * \n",
            "  * * * * \n",
            "   * * * \n",
            "    * * \n",
            "     * \n"
          ]
        }
      ],
      "source": [
        "n=5\n",
        "for i in range(n):\n",
        "  for j in range(i+1):\n",
        "    print('',end=' ')\n",
        "  for j in range(i,n):\n",
        "    print('*',end=' ')\n",
        "  print()"
      ]
    },
    {
      "cell_type": "markdown",
      "metadata": {
        "id": "s_1eCzH-e_mg"
      },
      "source": [
        "dimond pattern"
      ]
    },
    {
      "cell_type": "code",
      "execution_count": null,
      "metadata": {
        "colab": {
          "base_uri": "https://localhost:8080/"
        },
        "id": "3X9K8I60fGWK",
        "outputId": "913b7306-91df-422a-89b3-210ec3119d13"
      },
      "outputs": [
        {
          "name": "stdout",
          "output_type": "stream",
          "text": [
            "        *         \n",
            "      * * *       \n",
            "    * * * * *     \n",
            "  * * * * * * *   \n",
            "* * * * * * * * * \n"
          ]
        }
      ],
      "source": [
        "for i in range(n):\n",
        "    # Print spaces for the left side of the diamond\n",
        "    for j in range(n - i - 1):\n",
        "      print(\"  \", end=\"\")\n",
        "\n",
        "    # Print asterisks for the top and bottom of the diamond\n",
        "    for j in range(2 * i + 1):\n",
        "      print(\"* \", end=\"\")\n",
        "\n",
        "    # Print spaces for the right side of the diamond\n",
        "    for j in range(n - i - 1):\n",
        "      print(\"  \", end=\"\")\n",
        "\n",
        "    print()\n"
      ]
    },
    {
      "cell_type": "code",
      "execution_count": null,
      "metadata": {
        "colab": {
          "base_uri": "https://localhost:8080/"
        },
        "id": "eXYHoy6hhnKf",
        "outputId": "350d0700-43f5-474e-d2a4-07de2f5e6f04"
      },
      "outputs": [
        {
          "name": "stdout",
          "output_type": "stream",
          "text": [
            "1\n",
            "22\n",
            "333\n",
            "4444\n",
            "55555\n"
          ]
        }
      ],
      "source": [
        "n= 5\n",
        "for i in range(n):\n",
        "  for j in range(i+1):\n",
        "    print(i+1,end='')\n",
        "  print()"
      ]
    },
    {
      "cell_type": "code",
      "execution_count": null,
      "metadata": {
        "colab": {
          "base_uri": "https://localhost:8080/"
        },
        "id": "_-NrkU4fjdNA",
        "outputId": "e14cad8a-d410-4d54-c877-7a285132db9c"
      },
      "outputs": [
        {
          "name": "stdout",
          "output_type": "stream",
          "text": [
            "1\n",
            "22\n",
            "333\n",
            "4444\n",
            "55555\n"
          ]
        }
      ],
      "source": [
        "n= 5\n",
        "p=1\n",
        "for i in range(n):\n",
        "  for j in range(i+1):\n",
        "    print(p,end='')\n",
        "  p+=1\n",
        "  print()"
      ]
    },
    {
      "cell_type": "code",
      "execution_count": null,
      "metadata": {
        "colab": {
          "base_uri": "https://localhost:8080/"
        },
        "id": "627H0kOUjv33",
        "outputId": "4daca973-47bf-4675-91a4-ab30538f8ede"
      },
      "outputs": [
        {
          "name": "stdout",
          "output_type": "stream",
          "text": [
            "0\n",
            "22\n",
            "444\n",
            "6666\n",
            "88888\n"
          ]
        }
      ],
      "source": [
        "n= 5\n",
        "p=0\n",
        "for i in range(n):\n",
        "  for j in range(i+1):\n",
        "    print(p,end='')\n",
        "  p+=2\n",
        "  print()"
      ]
    },
    {
      "cell_type": "code",
      "execution_count": null,
      "metadata": {
        "colab": {
          "base_uri": "https://localhost:8080/"
        },
        "id": "-QiKOMT7j0Gx",
        "outputId": "64aa65d1-3200-4659-fa06-967c0653cfd0"
      },
      "outputs": [
        {
          "name": "stdout",
          "output_type": "stream",
          "text": [
            "5\n",
            "44\n",
            "333\n",
            "2222\n",
            "11111\n"
          ]
        }
      ],
      "source": [
        "n= 5\n",
        "p=5\n",
        "for i in range(n):\n",
        "  for j in range(i+1):\n",
        "    print(p,end='')\n",
        "  p-=1\n",
        "  print()"
      ]
    },
    {
      "cell_type": "code",
      "execution_count": null,
      "metadata": {
        "colab": {
          "base_uri": "https://localhost:8080/"
        },
        "id": "OsYTdLV6kADT",
        "outputId": "578cf7fb-d3fc-40db-8791-a51a797f5ca1"
      },
      "outputs": [
        {
          "name": "stdout",
          "output_type": "stream",
          "text": [
            "          1 \n",
            "        2 2 2 \n",
            "      3 3 3 3 3 \n",
            "    4 4 4 4 4 4 4 \n",
            "  5 5 5 5 5 5 5 5 5 \n",
            "    6 6 6 6 6 6 6 \n",
            "      7 7 7 7 7 \n",
            "        8 8 8 \n",
            "          9 \n"
          ]
        }
      ],
      "source": [
        "n= 5\n",
        "p=1\n",
        "for i in range(n-1):\n",
        "  for j in range(i,n):\n",
        "    print(' ',end=' ')\n",
        "  for j in range(i):\n",
        "    print(p,end=' ')\n",
        "  for j in range(i+1):\n",
        "    print(p,end=' ')\n",
        "  p+=1\n",
        "  print()\n",
        "\n",
        "for i in range(n):\n",
        "  for j in range(i+1):\n",
        "    print(' ',end=' ')\n",
        "  for j in range(i,n-1):\n",
        "    print(p,end=' ')\n",
        "  for j in range(i,n):\n",
        "    print(p,end=' ')\n",
        "  p+=1\n",
        "  print()"
      ]
    },
    {
      "cell_type": "code",
      "execution_count": null,
      "metadata": {
        "colab": {
          "base_uri": "https://localhost:8080/"
        },
        "id": "EQ4s6FkfkZ6j",
        "outputId": "a4f894d5-73d6-4fe2-b81c-7df4ffaab720"
      },
      "outputs": [
        {
          "name": "stdout",
          "output_type": "stream",
          "text": [
            "1 \n",
            "1 2 \n",
            "1 2 3 \n",
            "1 2 3 4 \n",
            "1 2 3 4 5 \n"
          ]
        }
      ],
      "source": [
        "n=5\n",
        "\n",
        "for i in range(n):\n",
        "  p=0\n",
        "  for j in range(i+1):\n",
        "    p+=1\n",
        "    print(p,end=' ')\n",
        "  print()"
      ]
    },
    {
      "cell_type": "code",
      "execution_count": null,
      "metadata": {
        "colab": {
          "base_uri": "https://localhost:8080/"
        },
        "id": "9o2H6D2FnCOE",
        "outputId": "c40230a4-67b9-42ef-c16a-37a42dc11847"
      },
      "outputs": [
        {
          "name": "stdout",
          "output_type": "stream",
          "text": [
            "5 \n",
            "5 4 \n",
            "5 4 3 \n",
            "5 4 3 2 \n",
            "5 4 3 2 1 \n"
          ]
        }
      ],
      "source": [
        "n=5\n",
        "\n",
        "for i in range(n):\n",
        "  p=n+1\n",
        "  for j in range(i+1):\n",
        "    p-=1\n",
        "    print(p,end=' ')\n",
        "  print()"
      ]
    },
    {
      "cell_type": "code",
      "execution_count": null,
      "metadata": {
        "colab": {
          "base_uri": "https://localhost:8080/"
        },
        "id": "0UbNXXcrnYr2",
        "outputId": "a8b5260c-9be0-4d16-ec4e-3b9ca3941a67"
      },
      "outputs": [
        {
          "name": "stdout",
          "output_type": "stream",
          "text": [
            " 12345\n",
            "  1234\n",
            "   123\n",
            "    12\n",
            "     1\n"
          ]
        }
      ],
      "source": [
        "n=5\n",
        "\n",
        "for i in range(n):\n",
        "  p=0\n",
        "  for j in range(i+1):\n",
        "    print('',end=' ')\n",
        "  for j in range(i,n):\n",
        "    p+=1\n",
        "    print(p,end='')\n",
        "  print()"
      ]
    },
    {
      "cell_type": "code",
      "execution_count": null,
      "metadata": {
        "colab": {
          "base_uri": "https://localhost:8080/"
        },
        "id": "HZ8ND7Xinz5O",
        "outputId": "d8af4dc1-a5ff-435b-a27c-18294f8b3f6f"
      },
      "outputs": [
        {
          "name": "stdout",
          "output_type": "stream",
          "text": [
            " 54321\n",
            "  5432\n",
            "   543\n",
            "    54\n",
            "     5\n"
          ]
        }
      ],
      "source": [
        "n=5\n",
        "\n",
        "for i in range(n):\n",
        "  p=n+1\n",
        "  for j in range(i+1):\n",
        "    print('',end=' ')\n",
        "  for j in range(i,n):\n",
        "    p-=1\n",
        "    print(p,end='')\n",
        "  print()"
      ]
    },
    {
      "cell_type": "code",
      "execution_count": null,
      "metadata": {
        "colab": {
          "base_uri": "https://localhost:8080/"
        },
        "id": "NAaanFSAoHpj",
        "outputId": "5ade99cf-56ed-49b3-bb44-b65f6d0ef018"
      },
      "outputs": [
        {
          "name": "stdout",
          "output_type": "stream",
          "text": [
            "          1 \n",
            "        1 2 3 \n",
            "      1 2 3 4 5 \n",
            "    1 2 3 4 5 6 7 \n",
            "  1 2 3 4 5 6 7 8 9 \n"
          ]
        }
      ],
      "source": [
        "n=5\n",
        "\n",
        "for i in range(n):\n",
        "  p=0\n",
        "  for j in range(i,n):\n",
        "    print(' ',end=' ')\n",
        "  for j in range(i):\n",
        "    p+=1\n",
        "    print(p,end=' ')\n",
        "  for j in range(i+1):\n",
        "    p+=1\n",
        "    print(p,end=' ')\n",
        "  print()"
      ]
    },
    {
      "cell_type": "markdown",
      "metadata": {
        "id": "9YUPoeujpXz-"
      },
      "source": [
        "Floyd Trangle"
      ]
    },
    {
      "cell_type": "code",
      "execution_count": null,
      "metadata": {
        "colab": {
          "base_uri": "https://localhost:8080/"
        },
        "id": "EqMQ9MeRpdGj",
        "outputId": "b36b1903-779d-4e77-8859-b900188c9d34"
      },
      "outputs": [
        {
          "name": "stdout",
          "output_type": "stream",
          "text": [
            "1 \n",
            "2 3 \n",
            "4 5 6 \n",
            "7 8 9 10 \n",
            "11 12 13 14 15 \n"
          ]
        }
      ],
      "source": [
        "n=5\n",
        "p=0\n",
        "for i in range(n):\n",
        "  for j in range(i+1):\n",
        "    p+=1\n",
        "    print(p,end=' ')\n",
        "  print()"
      ]
    },
    {
      "cell_type": "markdown",
      "metadata": {
        "id": "mvX03de4PhFf"
      },
      "source": [
        "OOP"
      ]
    },
    {
      "cell_type": "code",
      "execution_count": null,
      "metadata": {
        "colab": {
          "base_uri": "https://localhost:8080/"
        },
        "id": "Hb7Zk24MPiEB",
        "outputId": "c8c94b11-c3be-4d61-8eda-ea6a0b77008e"
      },
      "outputs": [
        {
          "name": "stdout",
          "output_type": "stream",
          "text": [
            "somthing i5 16gb\n",
            "somthing i9 100gb\n"
          ]
        }
      ],
      "source": [
        "class Computer:\n",
        "\n",
        "  def __init__(self,cpu,ram):\n",
        "    self.cpu=cpu\n",
        "    self.ram=ram\n",
        "\n",
        "\n",
        "\n",
        "  def config(self):\n",
        "    print(\"somthing\",self.cpu,self.ram)\n",
        "\n",
        "comp1=Computer('i5','16gb')\n",
        "# another example\n",
        "comp2=Computer('i9','100gb')\n",
        "comp1.config()\n",
        "comp2.config()"
      ]
    },
    {
      "cell_type": "code",
      "execution_count": null,
      "metadata": {
        "colab": {
          "background_save": true,
          "base_uri": "https://localhost:8080/"
        },
        "id": "ZnzUnCXtgF3f",
        "outputId": "a5432315-f9c0-4289-dc2b-fd753acd5244"
      },
      "outputs": [
        {
          "name": "stdout",
          "output_type": "stream",
          "text": [
            "sudip 20\n",
            "childs hari 10\n"
          ]
        }
      ],
      "source": [
        "class Parent:\n",
        "\n",
        "  def __init__(self,name,age):\n",
        "    self.name=name\n",
        "    self.age=age\n",
        "  def show(self):\n",
        "    print(\"parents\",self.name,self.age)\n",
        "\n",
        "class Child(Parent):\n",
        "\n",
        "\n",
        "p1=Person('sudip',20)\n",
        "p1.show()\n",
        "\n",
        "\n"
      ]
    },
    {
      "cell_type": "markdown",
      "metadata": {
        "id": "mtTK5r3Kiu3p"
      },
      "source": [
        "Linear search"
      ]
    },
    {
      "cell_type": "code",
      "execution_count": 37,
      "metadata": {
        "colab": {
          "base_uri": "https://localhost:8080/"
        },
        "id": "gxzIEyCSlsyP",
        "outputId": "3b711204-4797-46fc-9aec-1fe0135eed01"
      },
      "outputs": [
        {
          "output_type": "stream",
          "name": "stdout",
          "text": [
            "10 is not found\n"
          ]
        }
      ],
      "source": [
        "\n",
        "def search(list,n):\n",
        "  for i in range(len(list)):\n",
        "    if list[i]==n:\n",
        "      return True\n",
        "  return False\n",
        "\n",
        "list=[1,3,4,5,6,4,9]\n",
        "n=10\n",
        "if search(list,n):\n",
        "  print(n,\"is found in the list \")\n",
        "else:\n",
        "  print (n,\"is not found\")"
      ]
    },
    {
      "cell_type": "markdown",
      "source": [
        "Binery search"
      ],
      "metadata": {
        "id": "ScxsI8lrraLR"
      }
    },
    {
      "cell_type": "code",
      "source": [
        "\n",
        "def search(list,n):\n",
        "\n",
        " first=0\n",
        " last=len(list)-1\n",
        "\n",
        " while first<= last:\n",
        "    mid=(first+last) //2\n",
        "\n",
        "    if list[mid]<n:\n",
        "      low= mid+1\n",
        "\n",
        "    elif list[mid]>n:\n",
        "      last=mid-1\n",
        "    else:\n",
        "      return mid\n",
        "    return -1\n",
        "\n",
        "\n",
        "\n",
        "\n",
        "list=[1,3,4,5,6,9,20,70,100]\n",
        "n=100\n",
        "if search(list,n):\n",
        "  print(n,\"is found in the list \")\n",
        "else:\n",
        "  print (n,\"is not found\")"
      ],
      "metadata": {
        "colab": {
          "base_uri": "https://localhost:8080/"
        },
        "id": "enczr5ahrcXl",
        "outputId": "9bb81a6e-fe62-4f82-eef2-ab6ad24e71ee"
      },
      "execution_count": 41,
      "outputs": [
        {
          "output_type": "stream",
          "name": "stdout",
          "text": [
            "100 is found in the list \n"
          ]
        }
      ]
    },
    {
      "cell_type": "markdown",
      "source": [
        "Bubble sort"
      ],
      "metadata": {
        "id": "HuXmTVlWvigF"
      }
    },
    {
      "cell_type": "code",
      "source": [
        "def bubble_sort(num):\n",
        "  for i in range(len(num)-1,0,-1):\n",
        "    for j in range(i):\n",
        "      if num[j]>num[j+1]:\n",
        "        temp = num[j]\n",
        "        num[j]=num[j+1]\n",
        "        num[j+1]=temp\n",
        "\n",
        "nums=[1,5,2,9,4,6,3,22,5]\n",
        "bubble_sort(nums)\n",
        "print(nums)\n"
      ],
      "metadata": {
        "colab": {
          "base_uri": "https://localhost:8080/"
        },
        "id": "5LWhL66Xw4-Z",
        "outputId": "03c76ef9-69d7-499c-b018-62d2b65965c9"
      },
      "execution_count": 44,
      "outputs": [
        {
          "output_type": "stream",
          "name": "stdout",
          "text": [
            "[1, 2, 3, 4, 5, 5, 6, 9, 22]\n"
          ]
        }
      ]
    },
    {
      "cell_type": "markdown",
      "source": [
        "Selection sort"
      ],
      "metadata": {
        "id": "yPgZPHYryGpR"
      }
    },
    {
      "cell_type": "code",
      "source": [
        "def selection_sort(num,size):\n",
        "  for i in range(size):\n",
        "    minvalue=i\n",
        "    for j in range(minvalue+1,size):\n",
        "\n",
        "      if num[j]<num[minvalue]:\n",
        "        minvalue=j\n",
        "    temp = num[i]\n",
        "    num[i]=num[minvalue]\n",
        "    num[minvalue]=temp\n",
        "\n",
        "nums=[1,5,2,9,4,6,3,22,5]\n",
        "size=len(nums)\n",
        "selection_sort(nums,size)\n",
        "print(nums)"
      ],
      "metadata": {
        "colab": {
          "base_uri": "https://localhost:8080/"
        },
        "id": "RJzJxCAfyKBQ",
        "outputId": "b148601d-d8cf-4135-be40-ecb57c4b0a61"
      },
      "execution_count": 52,
      "outputs": [
        {
          "output_type": "stream",
          "name": "stdout",
          "text": [
            "[1, 2, 3, 4, 5, 5, 6, 9, 22]\n"
          ]
        }
      ]
    },
    {
      "cell_type": "markdown",
      "source": [
        "insertion sort"
      ],
      "metadata": {
        "id": "qULW5wz621pU"
      }
    },
    {
      "cell_type": "code",
      "source": [
        "def insertionSort(arr):\n",
        "\tn = len(arr)\n",
        "\n",
        "\tif n <= 1:\n",
        "\t\treturn # If the array has 0 or 1 element, it is already sorted, so return\n",
        "\n",
        "\tfor i in range(1, n): # Iterate over the array starting from the second element\n",
        "\t\tkey = arr[i] # Store the current element as the key to be inserted in the right position\n",
        "\t\tj = i-1\n",
        "\t\twhile j >= 0 and key < arr[j]: # Move elements greater than key one position ahead\n",
        "\t\t\tarr[j+1] = arr[j] # Shift elements to the right\n",
        "\t\t\tj -= 1\n",
        "\t\tarr[j+1] = key # Insert the key in the correct position\n",
        "\n",
        "# Sorting the array [12, 11, 13, 5, 6] using insertionSort\n",
        "arr = [12, 11, 13, 5, 6]\n",
        "insertionSort(arr)\n",
        "print(arr)\n"
      ],
      "metadata": {
        "colab": {
          "base_uri": "https://localhost:8080/"
        },
        "id": "TiDfGmPZ24wN",
        "outputId": "b6de6f26-5e9f-4e87-c942-babd487e8776"
      },
      "execution_count": 53,
      "outputs": [
        {
          "output_type": "stream",
          "name": "stdout",
          "text": [
            "[5, 6, 11, 12, 13]\n"
          ]
        }
      ]
    },
    {
      "cell_type": "markdown",
      "source": [
        "connect to database (MySql)"
      ],
      "metadata": {
        "id": "SpVc4vTE3na6"
      }
    },
    {
      "cell_type": "markdown",
      "source": [
        "import mysql.connector\n",
        "\n",
        "mydb = mysql.connector.connect(host='local',user='root',password=',rooyt'database='k')\n",
        "mycursor= mydb.cursor()\n",
        "\n",
        "# query\n",
        "mycursor.execute(\"select from table_name\")"
      ],
      "metadata": {
        "id": "iXL8gWVT5pAc"
      }
    },
    {
      "cell_type": "markdown",
      "source": [
        " command can be used to debug a Python program.\n",
        " python -m pdb Python-script.py  \n"
      ],
      "metadata": {
        "id": "xSIvy09b5wgJ"
      }
    }
  ],
  "metadata": {
    "colab": {
      "provenance": [],
      "authorship_tag": "ABX9TyNDxtGEFlzaPF8Q5G7PCDne",
      "include_colab_link": true
    },
    "kernelspec": {
      "display_name": "Python 3",
      "name": "python3"
    },
    "language_info": {
      "name": "python"
    }
  },
  "nbformat": 4,
  "nbformat_minor": 0
}