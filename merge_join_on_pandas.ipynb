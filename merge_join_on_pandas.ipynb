{
  "nbformat": 4,
  "nbformat_minor": 0,
  "metadata": {
    "colab": {
      "provenance": [],
      "authorship_tag": "ABX9TyOrs0lsbC9VbrMZtRtV1aFD",
      "include_colab_link": true
    },
    "kernelspec": {
      "name": "python3",
      "display_name": "Python 3"
    },
    "language_info": {
      "name": "python"
    }
  },
  "cells": [
    {
      "cell_type": "markdown",
      "metadata": {
        "id": "view-in-github",
        "colab_type": "text"
      },
      "source": [
        "<a href=\"https://colab.research.google.com/github/sudip-khanal/python-Basics/blob/main/merge_join_on_pandas.ipynb\" target=\"_parent\"><img src=\"https://colab.research.google.com/assets/colab-badge.svg\" alt=\"Open In Colab\"/></a>"
      ]
    },
    {
      "cell_type": "code",
      "execution_count": 9,
      "metadata": {
        "colab": {
          "base_uri": "https://localhost:8080/"
        },
        "id": "SGg_yUBXvnLd",
        "outputId": "c75b11ba-a9ec-4cfb-d681-16618aeeebc8"
      },
      "outputs": [
        {
          "output_type": "stream",
          "name": "stdout",
          "text": [
            "  Emp Id   Names  Age\n",
            "0    E01     Ram   30\n",
            "1    E02   Shyam   30\n",
            "2    E03    Hari   20\n",
            "3    E04    Sita   34\n",
            "4    E05    Gita   66\n",
            "5    E06    Rina   54\n",
            "6    E07    Abin   43\n",
            "7    E08   Abina   65\n",
            "8    E09  Sabina   34\n",
            "\n",
            "  Emp Id  Salary\n",
            "0    E01    3000\n",
            "1    E02   30000\n",
            "2    E03   20000\n",
            "3    E04   34334\n",
            "4    E05   66800\n",
            "5    E06   54323\n",
            "6    E07   43000\n",
            "7    E20    5800\n",
            "8    E30   67000\n"
          ]
        }
      ],
      "source": [
        "import pandas as pd\n",
        "\n",
        "data1={\n",
        "    \"Emp Id\":[\"E01\",\"E02\",\"E03\",\"E04\",\"E05\",\"E06\",\"E07\",\"E08\",\"E09\"],\n",
        "    \"Names\":[\"Ram\",\"Shyam\",\"Hari\",\"Sita\",\"Gita\",\"Rina\",\"Abin\",\"Abina\",\"Sabina\"],\n",
        "    \"Age\":[30,30,20,34,66,54,43,65,34]\n",
        "}\n",
        "\n",
        "data2={\n",
        "    \"Emp Id\":[\"E01\",\"E02\",\"E03\",\"E04\",\"E05\",\"E06\",\"E07\",\"E20\",\"E30\"],\n",
        "    \"Salary\":[3000,30000,20000,34334,66800,54323,43000,5800,67000]\n",
        "}\n",
        "df1=pd.DataFrame(data1)\n",
        "df2=pd.DataFrame(data2)\n",
        "\n",
        "print(df1)\n",
        "print()\n",
        "print(df2)\n",
        "\n"
      ]
    },
    {
      "cell_type": "markdown",
      "source": [
        "merging on the basis of emp id"
      ],
      "metadata": {
        "id": "zYw0kAiXAU_m"
      }
    },
    {
      "cell_type": "code",
      "source": [
        "import pandas as pd\n",
        "\n",
        "print(pd.merge(df1,df2,on=\"Emp Id\",how= \"inner\" ))\n"
      ],
      "metadata": {
        "colab": {
          "base_uri": "https://localhost:8080/"
        },
        "id": "Fmh5UerAAagi",
        "outputId": "0f7c5e7e-9351-445f-9e64-b58e044912d4"
      },
      "execution_count": 10,
      "outputs": [
        {
          "output_type": "stream",
          "name": "stdout",
          "text": [
            "  Emp Id  Names  Age  Salary\n",
            "0    E01    Ram   30    3000\n",
            "1    E02  Shyam   30   30000\n",
            "2    E03   Hari   20   20000\n",
            "3    E04   Sita   34   34334\n",
            "4    E05   Gita   66   66800\n",
            "5    E06   Rina   54   54323\n",
            "6    E07   Abin   43   43000\n"
          ]
        }
      ]
    },
    {
      "cell_type": "markdown",
      "source": [
        "joins are same as sql joins left join right join inner join outer join\n"
      ],
      "metadata": {
        "id": "JqzNNWxGBNP6"
      }
    },
    {
      "cell_type": "code",
      "source": [
        "print(pd.merge(df1,df2,on=\"Emp Id\",how= \"left\" ))\n"
      ],
      "metadata": {
        "colab": {
          "base_uri": "https://localhost:8080/"
        },
        "id": "hMDo2pnMBJz1",
        "outputId": "bbb9f831-a6f9-41e1-fe00-25887e234cee"
      },
      "execution_count": 11,
      "outputs": [
        {
          "output_type": "stream",
          "name": "stdout",
          "text": [
            "  Emp Id   Names  Age   Salary\n",
            "0    E01     Ram   30   3000.0\n",
            "1    E02   Shyam   30  30000.0\n",
            "2    E03    Hari   20  20000.0\n",
            "3    E04    Sita   34  34334.0\n",
            "4    E05    Gita   66  66800.0\n",
            "5    E06    Rina   54  54323.0\n",
            "6    E07    Abin   43  43000.0\n",
            "7    E08   Abina   65      NaN\n",
            "8    E09  Sabina   34      NaN\n"
          ]
        }
      ]
    },
    {
      "cell_type": "code",
      "source": [
        "print(pd.merge(left=df1,right=df2,on=\"Emp Id\",how= \"right\" ))"
      ],
      "metadata": {
        "colab": {
          "base_uri": "https://localhost:8080/"
        },
        "id": "2QKMSitMB9yq",
        "outputId": "46eb7580-ef57-4fb9-ce1a-2b9fe57d3097"
      },
      "execution_count": 15,
      "outputs": [
        {
          "output_type": "stream",
          "name": "stdout",
          "text": [
            "  Emp Id  Names   Age  Salary\n",
            "0    E01    Ram  30.0    3000\n",
            "1    E02  Shyam  30.0   30000\n",
            "2    E03   Hari  20.0   20000\n",
            "3    E04   Sita  34.0   34334\n",
            "4    E05   Gita  66.0   66800\n",
            "5    E06   Rina  54.0   54323\n",
            "6    E07   Abin  43.0   43000\n",
            "7    E20    NaN   NaN    5800\n",
            "8    E30    NaN   NaN   67000\n"
          ]
        }
      ]
    },
    {
      "cell_type": "code",
      "source": [
        "import pandas as pd\n",
        "\n",
        "data1={\n",
        "    \"Emp Id\":[\"E01\",\"E02\",\"E03\",\"E04\",\"E05\",\"E06\",\"E07\",\"E08\",\"E09\"],\n",
        "    \"Names\":[\"Ram\",\"Shyam\",\"Hari\",\"Sita\",\"Gita\",\"Rina\",\"Abin\",\"Abina\",\"Sabina\"],\n",
        "    \"Age\":[30,30,20,34,66,54,43,65,34]\n",
        "}\n",
        "\n",
        "data2={\n",
        "    \"Emp Id\":[\"E11\",\"E12\",\"E13\",\"E14\",\"E15\",\"E16\",\"E17\",\"E18\",\"E19\"],\n",
        "    \"Names\":[\"Krishna\",\"Roshan\",\"Ashik\",\"Prabin\",\"Jiban\",\"Asmita\",\"Sunil\",\"Sanju\",\"Pratikshya\"],\n",
        "    \"Age\":[19,20,24,23,26,21,24,23,22]\n",
        "}\n",
        "dataf1=pd.DataFrame(data1)\n",
        "dataf2=pd.DataFrame(data2)\n",
        "\n",
        "print(dataf1)\n",
        "print()\n",
        "print(dataf2)"
      ],
      "metadata": {
        "colab": {
          "base_uri": "https://localhost:8080/"
        },
        "id": "6Wsv6rMLC2Er",
        "outputId": "60cbe3a1-f14c-4b0f-a33d-49d61c3b9ca4"
      },
      "execution_count": 19,
      "outputs": [
        {
          "output_type": "stream",
          "name": "stdout",
          "text": [
            "  Emp Id   Names  Age\n",
            "0    E01     Ram   30\n",
            "1    E02   Shyam   30\n",
            "2    E03    Hari   20\n",
            "3    E04    Sita   34\n",
            "4    E05    Gita   66\n",
            "5    E06    Rina   54\n",
            "6    E07    Abin   43\n",
            "7    E08   Abina   65\n",
            "8    E09  Sabina   34\n",
            "\n",
            "  Emp Id       Names  Age\n",
            "0    E11     Krishna   19\n",
            "1    E12      Roshan   20\n",
            "2    E13       Ashik   24\n",
            "3    E14      Prabin   23\n",
            "4    E15       Jiban   26\n",
            "5    E16      Asmita   21\n",
            "6    E17       Sunil   24\n",
            "7    E18       Sanju   23\n",
            "8    E19  Pratikshya   22\n"
          ]
        }
      ]
    },
    {
      "cell_type": "markdown",
      "source": [
        "concatination"
      ],
      "metadata": {
        "id": "p8cdoXKLDyf1"
      }
    },
    {
      "cell_type": "code",
      "source": [
        "print(pd.concat([dataf1,dataf2]))"
      ],
      "metadata": {
        "colab": {
          "base_uri": "https://localhost:8080/"
        },
        "id": "07cB8UnlEBEy",
        "outputId": "9cdac9b0-4aaf-416f-c96b-b1cac8fb5508"
      },
      "execution_count": 21,
      "outputs": [
        {
          "output_type": "stream",
          "name": "stdout",
          "text": [
            "\n",
            "  Emp Id       Names  Age\n",
            "0    E01         Ram   30\n",
            "1    E02       Shyam   30\n",
            "2    E03        Hari   20\n",
            "3    E04        Sita   34\n",
            "4    E05        Gita   66\n",
            "5    E06        Rina   54\n",
            "6    E07        Abin   43\n",
            "7    E08       Abina   65\n",
            "8    E09      Sabina   34\n",
            "0    E11     Krishna   19\n",
            "1    E12      Roshan   20\n",
            "2    E13       Ashik   24\n",
            "3    E14      Prabin   23\n",
            "4    E15       Jiban   26\n",
            "5    E16      Asmita   21\n",
            "6    E17       Sunil   24\n",
            "7    E18       Sanju   23\n",
            "8    E19  Pratikshya   22\n"
          ]
        }
      ]
    },
    {
      "cell_type": "markdown",
      "source": [
        "compare DataFrames"
      ],
      "metadata": {
        "id": "q2ohzKsjEzij"
      }
    },
    {
      "cell_type": "code",
      "source": [
        "import pandas as pd\n",
        "\n",
        "d1={\n",
        "    \"Fruits\":[\"Apple\",\"Banana\",\"Mango\",\"Papaya\",\"Guava\",\"Greaps\"],\n",
        "    \"Quentity\":[\"20\",\"10\",\"5\",\"7\",\"5\",\"88\"],\n",
        "    \"Price\":[30,30,20,34,66,54,]\n",
        "}\n",
        "data1=pd.DataFrame(d1)\n",
        "print(data1)\n",
        "print(\"\\n\")\n",
        "\n",
        "d2={\n",
        "    \"Fruits\":[\"Apple\",\"Banana\",\"Mango\",\"Papaya\",\"Guava\",\"Greaps\"],\n",
        "    \"Quentity\":[\"20\",\"20\",\"50\",\"70\",\"5\",\"88\"],\n",
        "    \"Price\":[100,20,200,35,66,45,]\n",
        "}\n",
        "\n",
        "data2=pd.DataFrame(d2)\n",
        "print(data2)"
      ],
      "metadata": {
        "colab": {
          "base_uri": "https://localhost:8080/"
        },
        "id": "amKZ6skRE4Qj",
        "outputId": "d033a8af-696e-4564-eca7-8d1d29092f7e"
      },
      "execution_count": 25,
      "outputs": [
        {
          "output_type": "stream",
          "name": "stdout",
          "text": [
            "   Fruits Quentity  Price\n",
            "0   Apple       20     30\n",
            "1  Banana       10     30\n",
            "2   Mango        5     20\n",
            "3  Papaya        7     34\n",
            "4   Guava        5     66\n",
            "5  Greaps       88     54\n",
            "\n",
            "\n",
            "   Fruits Quentity  Price\n",
            "0   Apple       20    100\n",
            "1  Banana       20     20\n",
            "2   Mango       50    200\n",
            "3  Papaya       70     35\n",
            "4   Guava        5     66\n",
            "5  Greaps       88     45\n"
          ]
        }
      ]
    },
    {
      "cell_type": "code",
      "source": [
        "print(data1.compare(data2,align_axis=0))"
      ],
      "metadata": {
        "colab": {
          "base_uri": "https://localhost:8080/"
        },
        "id": "lHtlgHD_Gdqg",
        "outputId": "859e645f-54a7-4370-a833-dedbc8db49cc"
      },
      "execution_count": 28,
      "outputs": [
        {
          "output_type": "stream",
          "name": "stdout",
          "text": [
            "        Quentity  Price\n",
            "0 self       NaN   30.0\n",
            "  other      NaN  100.0\n",
            "1 self        10   30.0\n",
            "  other       20   20.0\n",
            "2 self         5   20.0\n",
            "  other       50  200.0\n",
            "3 self         7   34.0\n",
            "  other       70   35.0\n",
            "5 self       NaN   54.0\n",
            "  other      NaN   45.0\n"
          ]
        }
      ]
    },
    {
      "cell_type": "code",
      "source": [
        "print(data1.compare(data2,keep_equal=True,align_axis=0))"
      ],
      "metadata": {
        "colab": {
          "base_uri": "https://localhost:8080/"
        },
        "id": "-YwK7gKKHmS8",
        "outputId": "d8f1f250-067e-42a1-f3a0-4df45cc93c9d"
      },
      "execution_count": 30,
      "outputs": [
        {
          "output_type": "stream",
          "name": "stdout",
          "text": [
            "        Quentity  Price\n",
            "0 self        20     30\n",
            "  other       20    100\n",
            "1 self        10     30\n",
            "  other       20     20\n",
            "2 self         5     20\n",
            "  other       50    200\n",
            "3 self         7     34\n",
            "  other       70     35\n",
            "5 self        88     54\n",
            "  other       88     45\n"
          ]
        }
      ]
    },
    {
      "cell_type": "code",
      "source": [
        "print(data1.compare(data2,keep_shape=True))"
      ],
      "metadata": {
        "colab": {
          "base_uri": "https://localhost:8080/"
        },
        "id": "OXL9saBoIB8n",
        "outputId": "e871fba6-d931-4809-cace-f8076305cdae"
      },
      "execution_count": 32,
      "outputs": [
        {
          "output_type": "stream",
          "name": "stdout",
          "text": [
            "  Fruits       Quentity       Price       \n",
            "    self other     self other  self  other\n",
            "0    NaN   NaN      NaN   NaN  30.0  100.0\n",
            "1    NaN   NaN       10    20  30.0   20.0\n",
            "2    NaN   NaN        5    50  20.0  200.0\n",
            "3    NaN   NaN        7    70  34.0   35.0\n",
            "4    NaN   NaN      NaN   NaN   NaN    NaN\n",
            "5    NaN   NaN      NaN   NaN  54.0   45.0\n"
          ]
        }
      ]
    },
    {
      "cell_type": "code",
      "source": [
        "print(data1.compare(data2,keep_shape=False))"
      ],
      "metadata": {
        "colab": {
          "base_uri": "https://localhost:8080/"
        },
        "id": "Mwp2T57YIY3L",
        "outputId": "a7ac361b-a0de-4afb-8a2f-2c4318ce7219"
      },
      "execution_count": 33,
      "outputs": [
        {
          "output_type": "stream",
          "name": "stdout",
          "text": [
            "  Quentity       Price       \n",
            "      self other  self  other\n",
            "0      NaN   NaN  30.0  100.0\n",
            "1       10    20  30.0   20.0\n",
            "2        5    50  20.0  200.0\n",
            "3        7    70  34.0   35.0\n",
            "5      NaN   NaN  54.0   45.0\n"
          ]
        }
      ]
    },
    {
      "cell_type": "markdown",
      "source": [
        "Pivoting and Melting"
      ],
      "metadata": {
        "id": "t-TeZxumIi_T"
      }
    },
    {
      "cell_type": "code",
      "source": [
        "import pandas as pd\n",
        "\n",
        "d1={\n",
        "    \"Roll\":[\"R1\",\"R2\",\"R1\",\"R2\"],\n",
        "    \"Name\":[\"John\",\"Mary\",\"Alex\",\"Peter\"],\n",
        "    \"Houses\":[\"Red\",\"Green\",\"yello\",\"Red\"]\n",
        "}\n",
        "data1=pd.DataFrame(d1)\n",
        "print(data1)\n",
        "print(\"\\n\")"
      ],
      "metadata": {
        "colab": {
          "base_uri": "https://localhost:8080/"
        },
        "id": "-yC1MBOEIprB",
        "outputId": "b06387b4-6462-42c6-d5b7-435135d5319f"
      },
      "execution_count": 34,
      "outputs": [
        {
          "output_type": "stream",
          "name": "stdout",
          "text": [
            "  Roll   Name Houses\n",
            "0   R1   John    Red\n",
            "1   R2   Mary  Green\n",
            "2   R1   Alex  yello\n",
            "3   R2  Peter    Red\n",
            "\n",
            "\n"
          ]
        }
      ]
    },
    {
      "cell_type": "code",
      "source": [
        "print(data1.pivot(index=\"Roll\",columns=\"Name\",values=\"Houses\"))"
      ],
      "metadata": {
        "colab": {
          "base_uri": "https://localhost:8080/"
        },
        "id": "1LVPqq4rJ1uC",
        "outputId": "3f226f1e-aac5-48c5-e170-22ed1390807e"
      },
      "execution_count": 36,
      "outputs": [
        {
          "output_type": "stream",
          "name": "stdout",
          "text": [
            "Name   Alex John   Mary Peter\n",
            "Roll                         \n",
            "R1    yello  Red    NaN   NaN\n",
            "R2      NaN  NaN  Green   Red\n"
          ]
        }
      ]
    },
    {
      "cell_type": "markdown",
      "source": [
        "Melting"
      ],
      "metadata": {
        "id": "7FJdB3T1LlLj"
      }
    },
    {
      "cell_type": "code",
      "source": [
        "\n",
        "print(\"\\n\")\n",
        "print(pd.melt(data1,id_vars=[\"Name\"],value_vars=[\"Houses\"]))"
      ],
      "metadata": {
        "colab": {
          "base_uri": "https://localhost:8080/"
        },
        "id": "QD7FPewCLmgQ",
        "outputId": "95fbbd50-95c3-4c28-af69-aad664516209"
      },
      "execution_count": 44,
      "outputs": [
        {
          "output_type": "stream",
          "name": "stdout",
          "text": [
            "\n",
            "\n",
            "    Name variable  value\n",
            "0   John   Houses    Red\n",
            "1   Mary   Houses  Green\n",
            "2   Alex   Houses  yello\n",
            "3  Peter   Houses    Red\n"
          ]
        }
      ]
    }
  ]
}