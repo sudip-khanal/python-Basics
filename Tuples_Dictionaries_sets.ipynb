{
  "nbformat": 4,
  "nbformat_minor": 0,
  "metadata": {
    "colab": {
      "provenance": [],
      "authorship_tag": "ABX9TyPg4YZkl1p4U8flTApzVdWf",
      "include_colab_link": true
    },
    "kernelspec": {
      "name": "python3",
      "display_name": "Python 3"
    },
    "language_info": {
      "name": "python"
    }
  },
  "cells": [
    {
      "cell_type": "markdown",
      "metadata": {
        "id": "view-in-github",
        "colab_type": "text"
      },
      "source": [
        "<a href=\"https://colab.research.google.com/github/sudip-khanal/python-Basics/blob/main/Tuples_Dictionaries_sets.ipynb\" target=\"_parent\"><img src=\"https://colab.research.google.com/assets/colab-badge.svg\" alt=\"Open In Colab\"/></a>"
      ]
    },
    {
      "cell_type": "markdown",
      "source": [
        "Tuples, Dictionaries, and Sets in Python"
      ],
      "metadata": {
        "id": "l9EHVHgFAwn9"
      }
    },
    {
      "cell_type": "markdown",
      "source": [
        "Tuples are collection of ordered and unordered data\n",
        "it is immutable\n",
        "once created cannot be changed the value"
      ],
      "metadata": {
        "id": "wJu5sAoUA_Ql"
      }
    },
    {
      "cell_type": "code",
      "source": [
        "example=(\"apple\",\"mango\",\"banana\",\"ball\")\n",
        "print (type(example))\n",
        "print (example)\n"
      ],
      "metadata": {
        "colab": {
          "base_uri": "https://localhost:8080/"
        },
        "id": "X1oTa-9NBvTD",
        "outputId": "0938c7f9-a1f1-45aa-c0a7-382c387f42f0"
      },
      "execution_count": 1,
      "outputs": [
        {
          "output_type": "stream",
          "name": "stdout",
          "text": [
            "<class 'tuple'>\n",
            "('apple', 'mango', 'banana', 'ball')\n"
          ]
        }
      ]
    },
    {
      "cell_type": "markdown",
      "source": [
        "slicing and iteration on tuples"
      ],
      "metadata": {
        "id": "qdOxYHCBCkNE"
      }
    },
    {
      "cell_type": "code",
      "source": [
        "example=(\"apple\",\"mango\",\"banana\",\"ball\")\n",
        "print(example[1:3])\n",
        "print(example[:3])\n",
        "print(example[3:])\n",
        "print(example[::2])\n",
        "print(example[::-1])\n",
        "\n",
        "for i in example:\n",
        "  print (i)\n",
        "for i in range(len(example)):\n",
        "  print(example[i])\n",
        "for i,ele in enumerate(example):\n",
        "  print(i,ele)\n",
        "\n"
      ],
      "metadata": {
        "colab": {
          "base_uri": "https://localhost:8080/"
        },
        "id": "NYIJFT8lCpNZ",
        "outputId": "a41a8142-42da-4b64-d347-514fef9fd3c0"
      },
      "execution_count": 11,
      "outputs": [
        {
          "output_type": "stream",
          "name": "stdout",
          "text": [
            "('mango', 'banana')\n",
            "('apple', 'mango', 'banana')\n",
            "('ball',)\n",
            "('apple', 'banana')\n",
            "('ball', 'banana', 'mango', 'apple')\n",
            "apple\n",
            "mango\n",
            "banana\n",
            "ball\n",
            "apple\n",
            "mango\n",
            "banana\n",
            "ball\n",
            "0 apple\n",
            "1 mango\n",
            "2 banana\n",
            "3 ball\n"
          ]
        }
      ]
    },
    {
      "cell_type": "code",
      "source": [
        "example=(\"apple\",\"mango\",\"banana\",\"ball\")\n",
        "print(\"Before conversion\",type(example) )\n",
        "\n",
        "example=list(example)\n",
        "print(\"After conversion\",type(example) )\n",
        "example.append(\"hello\")\n",
        "print(example )\n",
        "\n"
      ],
      "metadata": {
        "colab": {
          "base_uri": "https://localhost:8080/"
        },
        "id": "EwnhSA5IFbRj",
        "outputId": "6ad58a17-f0c8-4cfc-8f4a-1a56249b9b0d"
      },
      "execution_count": 14,
      "outputs": [
        {
          "output_type": "stream",
          "name": "stdout",
          "text": [
            "Before conversion <class 'tuple'>\n",
            "After conversion <class 'list'>\n",
            "['apple', 'mango', 'banana', 'ball', 'hello']\n"
          ]
        }
      ]
    },
    {
      "cell_type": "markdown",
      "source": [
        "Dictionaries"
      ],
      "metadata": {
        "id": "zmykVlYDGYYG"
      }
    },
    {
      "cell_type": "code",
      "source": [
        "import json\n",
        "student={\"name\":\"abin\",\"age\":\"20\",\"roll\":\"3\"}\n",
        "print (type(student))\n",
        "print(student)\n",
        "for x in student:\n",
        "  print(x)\n",
        "for x,ele in enumerate(student):\n",
        "  print(x,ele)\n",
        "for x,y in student.items():\n",
        "  print(x,y)\n",
        "\n",
        "#converting into json format\n",
        "data = json.dumps(student)\n",
        "print (data)"
      ],
      "metadata": {
        "colab": {
          "base_uri": "https://localhost:8080/"
        },
        "id": "8Dj6kXsHGcpx",
        "outputId": "dce683a9-d82c-4e08-d56c-30a7d6de76ff"
      },
      "execution_count": 22,
      "outputs": [
        {
          "output_type": "stream",
          "name": "stdout",
          "text": [
            "<class 'dict'>\n",
            "{'name': 'abin', 'age': '20', 'roll': '3'}\n",
            "name\n",
            "age\n",
            "roll\n",
            "0 name\n",
            "1 age\n",
            "2 roll\n",
            "name abin\n",
            "age 20\n",
            "roll 3\n",
            "{\"name\": \"abin\", \"age\": \"20\", \"roll\": \"3\"}\n"
          ]
        }
      ]
    },
    {
      "cell_type": "code",
      "source": [
        "student={\"name\":\"abin\",\"age\":\"20\",\"roll\":\"3\"}\n",
        "fetch=student.get(\"age\")\n",
        "print(fetch)\n",
        "print(student.keys())\n",
        "print(student.values())\n",
        "a=(student.copy())\n",
        "print(a)"
      ],
      "metadata": {
        "colab": {
          "base_uri": "https://localhost:8080/"
        },
        "id": "HcqyLiXLJzrA",
        "outputId": "5e070f7e-e52c-4995-c040-e5dd8ad6aa81"
      },
      "execution_count": 28,
      "outputs": [
        {
          "output_type": "stream",
          "name": "stdout",
          "text": [
            "20\n",
            "dict_keys(['name', 'age', 'roll'])\n",
            "dict_values(['abin', '20', '3'])\n",
            "{'name': 'abin', 'age': '20', 'roll': '3'}\n"
          ]
        }
      ]
    }
  ]
}