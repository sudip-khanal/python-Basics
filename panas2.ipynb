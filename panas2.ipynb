{
  "nbformat": 4,
  "nbformat_minor": 0,
  "metadata": {
    "colab": {
      "provenance": [],
      "authorship_tag": "ABX9TyNh62NSwuJDQTuSbzkRB6xp",
      "include_colab_link": true
    },
    "kernelspec": {
      "name": "python3",
      "display_name": "Python 3"
    },
    "language_info": {
      "name": "python"
    }
  },
  "cells": [
    {
      "cell_type": "markdown",
      "metadata": {
        "id": "view-in-github",
        "colab_type": "text"
      },
      "source": [
        "<a href=\"https://colab.research.google.com/github/sudip-khanal/python-Basics/blob/main/panas2.ipynb\" target=\"_parent\"><img src=\"https://colab.research.google.com/assets/colab-badge.svg\" alt=\"Open In Colab\"/></a>"
      ]
    },
    {
      "cell_type": "markdown",
      "source": [],
      "metadata": {
        "id": "d1cYJ2zS1yb8"
      }
    },
    {
      "cell_type": "code",
      "source": [
        "import pandas as pd\n",
        "dataFrame=pd.read_csv('/company1.csv')\n",
        "print(dataFrame)"
      ],
      "metadata": {
        "id": "Ume4u-X610QL"
      },
      "execution_count": null,
      "outputs": []
    },
    {
      "cell_type": "markdown",
      "source": [
        "bonus calculation"
      ],
      "metadata": {
        "id": "nBv54iXL4OBE"
      }
    },
    {
      "cell_type": "code",
      "source": [
        "dataFrame[\"Bonus\"]=(dataFrame[\"salary\"]/100)*20\n",
        "print(dataFrame)"
      ],
      "metadata": {
        "id": "KG6KUrXM4QmV"
      },
      "execution_count": null,
      "outputs": []
    },
    {
      "cell_type": "markdown",
      "source": [
        "Group By in Pandas"
      ],
      "metadata": {
        "id": "geEYqPNA6IKw"
      }
    },
    {
      "cell_type": "code",
      "source": [
        "import pandas as pd\n",
        "data = pd.read_excel('/ESD.xlsx')\n",
        "print(data.head())"
      ],
      "metadata": {
        "id": "L-rPtWQV6LZa"
      },
      "execution_count": null,
      "outputs": []
    },
    {
      "cell_type": "code",
      "source": [
        "result=data.groupby('Department').agg({\"Gender\":\"count\"})\n",
        "print(result)"
      ],
      "metadata": {
        "id": "POINMOW-7NnS"
      },
      "execution_count": null,
      "outputs": []
    },
    {
      "cell_type": "code",
      "source": [
        "result2=data.groupby('Country').agg({\"Annual Salary\":\"max\"})\n",
        "print(result2)"
      ],
      "metadata": {
        "id": "-ocJRf4t8hxe"
      },
      "execution_count": null,
      "outputs": []
    },
    {
      "cell_type": "code",
      "source": [
        "common_name=data.groupby('Full Name').agg({\"Full Name\":\"count\"})\n",
        "print(common_name)"
      ],
      "metadata": {
        "colab": {
          "base_uri": "https://localhost:8080/"
        },
        "id": "ObwUgkPZ_DJs",
        "outputId": "de18388e-8da8-4fea-8548-fc9d96c2409f"
      },
      "execution_count": 23,
      "outputs": [
        {
          "output_type": "stream",
          "name": "stdout",
          "text": [
            "                 Full Name\n",
            "Full Name                 \n",
            "Aaliyah Mai              1\n",
            "Aaron Garza              1\n",
            "Aaron Maldonado          1\n",
            "Abigail Garza            1\n",
            "Abigail Mejia            1\n",
            "...                    ...\n",
            "Zoe Rodriguez            1\n",
            "Zoe Romero               1\n",
            "Zoe Sanchez              1\n",
            "Zoe Zhou                 1\n",
            "Zoey Jackson             1\n",
            "\n",
            "[991 rows x 1 columns]\n"
          ]
        }
      ]
    },
    {
      "cell_type": "code",
      "source": [
        "result=data.groupby(['Department','Gender']).agg({\"EEID\":\"count\"})\n",
        "print(result)"
      ],
      "metadata": {
        "colab": {
          "base_uri": "https://localhost:8080/"
        },
        "id": "6BL8KnbX8pe2",
        "outputId": "66333a5b-5d9e-4e8c-c0e8-c1f103065b61"
      },
      "execution_count": 15,
      "outputs": [
        {
          "output_type": "stream",
          "name": "stdout",
          "text": [
            "                        EEID\n",
            "Department      Gender      \n",
            "Accounting      Female    53\n",
            "                Male      43\n",
            "Engineering     Female    80\n",
            "                Male      78\n",
            "Finance         Female    69\n",
            "                Male      51\n",
            "Human Resources Female    64\n",
            "                Male      61\n",
            "IT              Female   119\n",
            "                Male     122\n",
            "Marketing       Female    57\n",
            "                Male      63\n",
            "Sales           Female    76\n",
            "                Male      64\n"
          ]
        }
      ]
    },
    {
      "cell_type": "code",
      "source": [
        "result=data.groupby(['Department','Gender']).agg({\"EEID\":\"count\",\"Age\":\"max\"})\n",
        "print(result)"
      ],
      "metadata": {
        "colab": {
          "base_uri": "https://localhost:8080/"
        },
        "id": "eacNX6a6_8vE",
        "outputId": "73fb789b-c6ba-496c-a11b-137f5259d871"
      },
      "execution_count": 29,
      "outputs": [
        {
          "output_type": "stream",
          "name": "stdout",
          "text": [
            "                        EEID  Age\n",
            "Department      Gender           \n",
            "Accounting      Female    53   63\n",
            "                Male      43   64\n",
            "Engineering     Female    80   65\n",
            "                Male      78   64\n",
            "Finance         Female    69   65\n",
            "                Male      51   65\n",
            "Human Resources Female    64   65\n",
            "                Male      61   64\n",
            "IT              Female   119   65\n",
            "                Male     122   64\n",
            "Marketing       Female    57   65\n",
            "                Male      63   65\n",
            "Sales           Female    76   65\n",
            "                Male      64   63\n"
          ]
        }
      ]
    }
  ]
}